{
 "cells": [
  {
   "cell_type": "markdown",
   "metadata": {},
   "source": [
    "Через невесомы брусок, укрепеленный к потолку, перекинута нить, к концам которой подвешены гири с массами 12кг и 5кг. Найти ускорение, с которым движутся гири. Трением в блоке пренебречь.\n"
   ]
  },
  {
   "cell_type": "code",
   "execution_count": 3,
   "metadata": {},
   "outputs": [
    {
     "name": "stdout",
     "output_type": "stream",
     "text": [
      "Ускорение свободного падения = 10.717 м.с²\n"
     ]
    }
   ],
   "source": [
    "m1 = 12\n",
    "m2 = 5\n",
    "g = 9.8\n",
    "a = round(g * (m1-m2) / m1 + m2, 3)\n",
    "print(f'Ускорение свободного падения = {a} м.с²')"
   ]
  }
 ],
 "metadata": {
  "kernelspec": {
   "display_name": "Python 3",
   "language": "python",
   "name": "python3"
  },
  "language_info": {
   "codemirror_mode": {
    "name": "ipython",
    "version": 3
   },
   "file_extension": ".py",
   "mimetype": "text/x-python",
   "name": "python",
   "nbconvert_exporter": "python",
   "pygments_lexer": "ipython3",
   "version": "3.8.5"
  }
 },
 "nbformat": 4,
 "nbformat_minor": 4
}
