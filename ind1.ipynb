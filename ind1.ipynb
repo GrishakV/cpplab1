{
 "cells": [
  {
   "cell_type": "markdown",
   "metadata": {},
   "source": [
    "Через невесомый брусок, укрепеленный к потолку, перекинута нить, к концам которой подвешены гири с массами 12кг и 5кг. Найти ускорение, с которым движутся гири. Трением в блоке пренебречь."
   ]
  },
  {
   "cell_type": "code",
   "execution_count": 12,
   "metadata": {},
   "outputs": [
    {
     "ename": "SyntaxError",
     "evalue": "invalid syntax (<ipython-input-12-b8fd58db4b21>, line 11)",
     "output_type": "error",
     "traceback": [
      "\u001b[1;36m  File \u001b[1;32m\"<ipython-input-12-b8fd58db4b21>\"\u001b[1;36m, line \u001b[1;32m11\u001b[0m\n\u001b[1;33m    g\u001b[0m\n\u001b[1;37m    ^\u001b[0m\n\u001b[1;31mSyntaxError\u001b[0m\u001b[1;31m:\u001b[0m invalid syntax\n"
     ]
    }
   ],
   "source": [
    "import math\n",
    "m1 = 12\n",
    "m2 = 5\n",
    "fi = [45, 2, 27.85]\n",
    "fi = fi[0] + (fi[1] / 60) + (fi[2] / 3600)\n",
    "fi = math.radians(fi)\n",
    "h = 636\n",
    "g = 9.780318 * (1 + 0.005302 * (math.sin(fi))**2 - 0.000006 * (math.sin(fi))**2 - 0.000003086 * h\n",
    "# a = round(g * (m1-m2) / (m1 + m2), 3)\n",
    "# print(f'Ускорение свободного падения = {a} м.с²')\n",
    "g"
   ]
  }
 ],
 "metadata": {
  "kernelspec": {
   "display_name": "Python 3",
   "language": "python",
   "name": "python3"
  },
  "language_info": {
   "codemirror_mode": {
    "name": "ipython",
    "version": 3
   },
   "file_extension": ".py",
   "mimetype": "text/x-python",
   "name": "python",
   "nbconvert_exporter": "python",
   "pygments_lexer": "ipython3",
   "version": "3.8.5"
  }
 },
 "nbformat": 4,
 "nbformat_minor": 4
}
